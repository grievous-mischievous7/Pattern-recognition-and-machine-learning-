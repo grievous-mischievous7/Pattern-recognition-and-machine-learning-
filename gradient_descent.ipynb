{
 "cells": [
  {
   "cell_type": "code",
   "execution_count": 2,
   "metadata": {},
   "outputs": [],
   "source": [
    "import numpy as np\n",
    "import matplotlib.pyplot as plt\n",
    "import math"
   ]
  },
  {
   "cell_type": "code",
   "execution_count": 3,
   "metadata": {},
   "outputs": [],
   "source": [
    "def dif(x,y):\n",
    "    dydx=np.diff(y)/np.diff(x)\n",
    "    return dydx"
   ]
  },
  {
   "cell_type": "code",
   "execution_count": 4,
   "metadata": {},
   "outputs": [],
   "source": [
    "def grad_desc(start,theta,j,alpha):\n",
    "    value=[]\n",
    "    \n",
    "    for i in range(0,len(x)):\n",
    "        value.append(abs(start-x[i])) #CHANGE TO LIST\n",
    "        \n",
    "    #value = np.array(value)\n",
    "    minimum=min(value) #CHANGE TO LIST\n",
    "    i=0\n",
    "    \n",
    "    for i in range(0,len(value)):\n",
    "        if(value[i]==minimum):\n",
    "            index=i\n",
    "    \n",
    "    start=x[index]\n",
    "    d2ydx=dif(theta,j)\n",
    "    count=0\n",
    "    v=[]\n",
    "    jnew=[]\n",
    "    thetanew=[]\n",
    "    while count<1000:\n",
    "        #v=np.zeros(99) #CHANGE TO LIST\n",
    "        start=start-alpha*(d2ydx[index])\n",
    "        thetanew.append(start)\n",
    "        jnew.append(j[index])\n",
    "        i=0\n",
    "        for i in range(0,len(x)):\n",
    "            v.append(abs(start-x[i]))\n",
    "        #v = np.array(v)\n",
    "        minimum=min(v)\n",
    "        i=0\n",
    "        #print(len(v))\n",
    "        for i in range(0,len(v)):\n",
    "            if(v[i]==minimum):\n",
    "                index=i\n",
    "        v.clear()\n",
    "        count+=1\n",
    "    print(count)\n",
    "    \n",
    "    #j2new=np.diff(jnew)/np.diff(thetanew)\n",
    "    #j2new=np.append(j2new,0)\n",
    "    print(jnew[99],thetanew[99])\n",
    "    plt.plot(theta , j )\n",
    "    plt.plot(thetanew,jnew,color='Red')\n",
    "    plt.show\n",
    "    "
   ]
  },
  {
   "cell_type": "code",
   "execution_count": 5,
   "metadata": {},
   "outputs": [],
   "source": [
    "mean = 0\n",
    "standard_deviation = 1\n",
    "sigma=1\n",
    "x= np.arange(-5, 5, 0.1)\n",
    "y=[]\n",
    "y=1/(sigma*math.sqrt(2*math.pi)) * np.exp(-1/2 * ((x-mean)/sigma)**2)  \n",
    "#plt.title('Gaussian function')\n",
    "#plt.plot(x,y)\n",
    "dydx=dif(x,y) # function call \n",
    "#print(x.shape,dydx.shape,dydx)\n",
    "x=np.delete(x,0)\n",
    "#dydx=np.append(dydx,0)\n",
    "#plt.plot(x,dydx)"
   ]
  },
  {
   "cell_type": "code",
   "execution_count": 6,
   "metadata": {},
   "outputs": [
    {
     "name": "stdout",
     "output_type": "stream",
     "text": [
      "1000\n",
      "-0.24114525379611398 1.0056860507906833\n"
     ]
    },
    {
     "data": {
      "image/png": "[encoded data removed]",
      "text/plain": [
       "<Figure size 432x288 with 1 Axes>"
      ]
     },
     "metadata": {
      "needs_background": "light"
     },
     "output_type": "display_data"
    }
   ],
   "source": [
    "grad_desc(0,x,dydx,1)"
   ]
  }
 ],
 "metadata": {
  "kernelspec": {
   "display_name": "Python 3",
   "language": "python",
   "name": "python3"
  },
  "language_info": {
   "codemirror_mode": {
    "name": "ipython",
    "version": 3
   },
   "file_extension": ".py",
   "mimetype": "text/x-python",
   "name": "python",
   "nbconvert_exporter": "python",
   "pygments_lexer": "ipython3",
   "version": "3.8.3"
  }
 },
 "nbformat": 4,
 "nbformat_minor": 4
}
