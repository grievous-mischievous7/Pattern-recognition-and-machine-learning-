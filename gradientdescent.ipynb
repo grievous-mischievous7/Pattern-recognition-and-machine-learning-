{
 "cells": [
  {
   "cell_type": "code",
   "execution_count": 1,
   "metadata": {},
   "outputs": [
    {
     "name": "stdout",
     "output_type": "stream",
     "text": [
      "No. of iterations =  1000\n"
     ]
    },
    {
     "data": {
      "image/png": "[encoded data removed]",
      "text/plain": [
       "<Figure size 432x288 with 1 Axes>"
      ]
     },
     "metadata": {
      "needs_background": "light"
     },
     "output_type": "display_data"
    }
   ],
   "source": [
    "import numpy as np\n",
    "import matplotlib.pyplot as plt\n",
    "import math\n",
    "def grad_ascent(xi, lr, x, y):    # Initial x, Learning Rate, X axis, Y axis\n",
    "        xf = xi \n",
    "        \n",
    "        y1 = np.diff(y)\n",
    "        y1 = np.append(y1 ,0)\n",
    "        \n",
    "        for i in range(0,len(x)):\n",
    "                if abs(x[i] - xf) <= 0.05:\n",
    "                    index = i\n",
    "                    \n",
    "        count = 0\n",
    "        x_update = []\n",
    "        y_update = []\n",
    "        i = 0\n",
    "        while abs(y1[index]) > 0.001 and count<1000:   # slope can be upto an epsilon, after which we stop iterating and count < 500\n",
    "            for i in range(0,len(x)):\n",
    "                if abs(x[i] - xf) <= 0.05:\n",
    "                    index = i\n",
    "            \n",
    "            xf = xf + lr*(y1[index])\n",
    "            count+= 1\n",
    "            x_update.append(x[index])\n",
    "            y_update.append(y[index])\n",
    "\n",
    "        #print(\"x_init = \", xi, \"\\nLearning rate = \", lr, \"\\nx_minimum = \", xf)\n",
    "        print(\"No. of iterations = \", count)\n",
    "        #y_update = []\n",
    "        #y_update = 1/(sigma*math.sqrt(2*math.pi)) * np.exp(-1/2 * ((x_update-mean)/sigma)**2)\n",
    "        plt.plot(x,y, color = 'red')\n",
    "        plt.plot(x_update, y_update, color = 'blue')\n",
    "        plt.show()\n",
    "mean = 0\n",
    "standard_deviation = 1\n",
    "\n",
    "sigma=1\n",
    "x= np.arange(-5, 5, 0.1)\n",
    "y=[]\n",
    "y=1/(sigma*math.sqrt(2*math.pi)) * np.exp(-1/2 * ((x-mean)/sigma)**2)\n",
    "\n",
    "#y_values = scipy.stats.norm(mean, standard_deviation)\n",
    "#plt.plot(x, -y);\n",
    "plt.title('Gaussian function');\n",
    "\n",
    "grad_ascent(-2, 0.5, x, y)\n",
    "\n",
    "#y1 = -y\n",
    "\n",
    "#for i in range(len(x)):\n",
    "#    if y1[i] == min(y1):\n",
    "#        print(x[i])"
   ]
  },
  {
   "cell_type": "code",
   "execution_count": null,
   "metadata": {},
   "outputs": [],
   "source": []
  },
  {
   "cell_type": "code",
   "execution_count": null,
   "metadata": {},
   "outputs": [],
   "source": []
  }
 ],
 "metadata": {
  "kernelspec": {
   "display_name": "Python 3",
   "language": "python",
   "name": "python3"
  },
  "language_info": {
   "codemirror_mode": {
    "name": "ipython",
    "version": 3
   },
   "file_extension": ".py",
   "mimetype": "text/x-python",
   "name": "python",
   "nbconvert_exporter": "python",
   "pygments_lexer": "ipython3",
   "version": "3.8.3"
  }
 },
 "nbformat": 4,
 "nbformat_minor": 4
}
